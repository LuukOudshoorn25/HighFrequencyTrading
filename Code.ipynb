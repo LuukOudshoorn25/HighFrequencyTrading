{
 "cells": [
  {
   "cell_type": "code",
   "execution_count": 3,
   "metadata": {},
   "outputs": [
    {
     "name": "stdout",
     "output_type": "stream",
     "text": [
      "INFO: Pandarallel will run on 24 workers.\n",
      "INFO: Pandarallel will use Memory file system to transfer data between the main process and workers.\n"
     ]
    }
   ],
   "source": [
    "import numpy as np\n",
    "import pandas as pd\n",
    "from glob import glob\n",
    "from joblib import Parallel, delayed\n",
    "import matplotlib.pyplot as plt\n",
    "from pandarallel import pandarallel\n",
    "# Initialization\n",
    "pandarallel.initialize()\n",
    "import time"
   ]
  },
  {
   "cell_type": "code",
   "execution_count": 25,
   "metadata": {},
   "outputs": [
    {
     "name": "stdout",
     "output_type": "stream",
     "text": [
      "Lengths [51075992, 29500474, 39836829, 42336468, 81459223, 39138395]\n",
      "93.68 Read data\n"
     ]
    },
    {
     "name": "stderr",
     "output_type": "stream",
     "text": [
      "/home/luuk/anaconda3/lib/python3.8/site-packages/joblib/externals/loky/process_executor.py:688: UserWarning: A worker stopped while some jobs were given to the executor. This can be caused by a too short worker timeout or by a memory leak.\n",
      "  warnings.warn(\n"
     ]
    },
    {
     "name": "stdout",
     "output_type": "stream",
     "text": [
      "223.33 Selected on exchange\n",
      "265.92 Dropped corrected\n",
      "322.24 Made seconds from millisecond data\n",
      "374.66 Grouped by datetime\n",
      "374.67 Removed low outliers\n",
      "378.97 Converted to datetimes\n",
      "380.88 Done\n"
     ]
    }
   ],
   "source": [
    "#######################################\n",
    "###                                 ###\n",
    "###   STEP 1: Read and clean data   ###\n",
    "###                                 ###\n",
    "#######################################\n",
    "\n",
    "class datacleaner():\n",
    "    def __init__(self):\n",
    "        tstart=time.time()\n",
    "        # Get list of all files\n",
    "        flist = glob('./MSFT/*csv')\n",
    "        # Parallel read the files\n",
    "        dfs= Parallel(n_jobs=8)(delayed(pd.read_csv)(i) for i in flist)\n",
    "        print(\"Lengths\",[len(w) for w in dfs])\n",
    "        print(np.round(time.time()-tstart,2),\"Read data\")\n",
    "        # Select only exchange \"Q\"\n",
    "        dfs= Parallel(n_jobs=8)(delayed(self.select_exchange)(i) for i in dfs)\n",
    "        print(np.round(time.time()-tstart,2),\"Selected on exchange\")\n",
    "        # Drop corrected\n",
    "        dfs= Parallel(n_jobs=8)(delayed(self.drop_corr)(i) for i in dfs)\n",
    "        print(np.round(time.time()-tstart,2),\"Dropped corrected\")\n",
    "        # Aggregate to second level(otherwise things are way too slow)\n",
    "        dfs= Parallel(n_jobs=8)(delayed(self.to_seconds)(i) for i in dfs)\n",
    "        print(np.round(time.time()-tstart,2),\"Made seconds from millisecond data\")\n",
    "        # Group by datetime (sum of sizes and median of prices)\n",
    "        dfs= Parallel(n_jobs=8)(delayed(self.aggregate)(i) for i in dfs)\n",
    "        print(np.round(time.time()-tstart,2),\"Grouped by datetime\")\n",
    "        # Remove low outliers\n",
    "        #dfs= Parallel(n_jobs=8)(delayed(self.neg_outlier)(i) for i in dfs)\n",
    "        print(np.round(time.time()-tstart,2),\"Removed low outliers\")\n",
    "        # Get datetime and drop unknowns\n",
    "        dfs= Parallel(n_jobs=8)(delayed(self.clean)(i) for i in dfs)\n",
    "        print(np.round(time.time()-tstart,2),\"Converted to datetimes\")\n",
    "\n",
    "        # Concatenate them vertically\n",
    "        self.df = pd.concat(dfs)        \n",
    "        # Sort them\n",
    "        self.sort()\n",
    "        # Get hourly dataframe        \n",
    "        self.get_hourly()\n",
    "        # Write to files\n",
    "        self.write()\n",
    "        print(np.round(time.time()-tstart,2), \"Done\")\n",
    "        \n",
    "    def to_seconds(self,df):\n",
    "        df['time_sec'] = df.TIME_M.apply(lambda x: x.split('.')[0])\n",
    "        return df\n",
    "    \n",
    "    def select_exchange(self,df):\n",
    "        return df[df.EX=='Q']\n",
    "        \n",
    "    def clean(self,df):\n",
    "        # Remove 9999.999 values\n",
    "        df = df.drop(df[df.PRICE>5000].index)\n",
    "        df = df.reset_index()\n",
    "        df['DATETIME'] = df['DATE'].astype(str) + ' ' + df['time_sec']\n",
    "        df['DATETIME'] = pd.to_datetime(df['DATETIME'])\n",
    "        return df\n",
    "        \n",
    "        \n",
    "    def neg_outlier(self,df):\n",
    "        # rolling window to remove outliers at 60std\n",
    "        prices = df.PRICE\n",
    "        r = prices.rolling(window=4000)  # Create a rolling object \n",
    "        mps = r.mean() - 60. * r.std()  # Combine a mean and stdev on that object\n",
    "        outliers = prices[prices < mps].index\n",
    "        df = df.drop(outliers)\n",
    "        return df\n",
    "        \n",
    "    def drop_corr(self,df):\n",
    "        # Drop all items that are corrected (see Barndorff-Nielsen)\n",
    "        df = df[df.TR_CORR==0]\n",
    "        return df\n",
    "        \n",
    "        \n",
    "    def aggregate(self,df):\n",
    "        # Groupby datetime (e.g. two ticks at same moment become one)\n",
    "        df = pd.DataFrame({'SIZE':df.groupby(['DATE','time_sec']).SIZE.sum(),\n",
    "                           'PRICE':df.groupby(['DATE','time_sec']).PRICE.median()})\n",
    "        return df\n",
    "        \n",
    "    def sort(self):\n",
    "        self.df = self.df[['SIZE','PRICE','DATETIME']].set_index('DATETIME')\n",
    "        self.df = self.df.sort_index()\n",
    "        \n",
    "    def get_hourly(self):\n",
    "        # Aggregate to hourly dateframe, just for visualization\n",
    "        self.hourly=self.df.reset_index().resample('H', on='DATETIME').median()\n",
    "        \n",
    "    def write(self):\n",
    "        # Write to pickle files\n",
    "        self.df.to_pickle('MSFT_2015_2020.pickle')\n",
    "        self.hourly.to_pickle('MSFT_hourly.pickle')\n",
    "    \n",
    "    def get_df(self):\n",
    "        return self.df\n",
    "        \n",
    "reader = datacleaner()\n",
    "df = reader.get_df()"
   ]
  },
  {
   "cell_type": "code",
   "execution_count": 26,
   "metadata": {},
   "outputs": [
    {
     "data": {
      "text/plain": [
       "[<matplotlib.lines.Line2D at 0x7fc43ed24970>]"
      ]
     },
     "execution_count": 26,
     "metadata": {},
     "output_type": "execute_result"
    },
    {
     "data": {
      "image/png": "[encoded data removed]",
      "text/plain": [
       "<Figure size 432x288 with 1 Axes>"
      ]
     },
     "metadata": {
      "needs_background": "light"
     },
     "output_type": "display_data"
    }
   ],
   "source": [
    "plt.plot(df.index, df.PRICE)"
   ]
  },
  {
   "cell_type": "code",
   "execution_count": 28,
   "metadata": {},
   "outputs": [
    {
     "data": {
      "text/html": [
       "<div>\n",
       "<style scoped>\n",
       "    .dataframe tbody tr th:only-of-type {\n",
       "        vertical-align: middle;\n",
       "    }\n",
       "\n",
       "    .dataframe tbody tr th {\n",
       "        vertical-align: top;\n",
       "    }\n",
       "\n",
       "    .dataframe thead th {\n",
       "        text-align: right;\n",
       "    }\n",
       "</style>\n",
       "<table border=\"1\" class=\"dataframe\">\n",
       "  <thead>\n",
       "    <tr style=\"text-align: right;\">\n",
       "      <th></th>\n",
       "      <th>SIZE</th>\n",
       "      <th>PRICE</th>\n",
       "    </tr>\n",
       "    <tr>\n",
       "      <th>DATETIME</th>\n",
       "      <th></th>\n",
       "      <th></th>\n",
       "    </tr>\n",
       "  </thead>\n",
       "  <tbody>\n",
       "    <tr>\n",
       "      <th>2015-01-02 09:30:00</th>\n",
       "      <td>759542</td>\n",
       "      <td>46.685</td>\n",
       "    </tr>\n",
       "    <tr>\n",
       "      <th>2015-01-02 09:30:01</th>\n",
       "      <td>837</td>\n",
       "      <td>46.660</td>\n",
       "    </tr>\n",
       "    <tr>\n",
       "      <th>2015-01-02 09:30:02</th>\n",
       "      <td>100</td>\n",
       "      <td>46.680</td>\n",
       "    </tr>\n",
       "    <tr>\n",
       "      <th>2015-01-02 09:30:03</th>\n",
       "      <td>1288</td>\n",
       "      <td>46.660</td>\n",
       "    </tr>\n",
       "    <tr>\n",
       "      <th>2015-01-02 09:30:04</th>\n",
       "      <td>3241</td>\n",
       "      <td>46.660</td>\n",
       "    </tr>\n",
       "    <tr>\n",
       "      <th>...</th>\n",
       "      <td>...</td>\n",
       "      <td>...</td>\n",
       "    </tr>\n",
       "    <tr>\n",
       "      <th>2020-12-14 15:59:55</th>\n",
       "      <td>6367</td>\n",
       "      <td>214.080</td>\n",
       "    </tr>\n",
       "    <tr>\n",
       "      <th>2020-12-14 15:59:56</th>\n",
       "      <td>7856</td>\n",
       "      <td>214.150</td>\n",
       "    </tr>\n",
       "    <tr>\n",
       "      <th>2020-12-14 15:59:57</th>\n",
       "      <td>41730</td>\n",
       "      <td>213.800</td>\n",
       "    </tr>\n",
       "    <tr>\n",
       "      <th>2020-12-14 15:59:58</th>\n",
       "      <td>19376</td>\n",
       "      <td>213.990</td>\n",
       "    </tr>\n",
       "    <tr>\n",
       "      <th>2020-12-14 15:59:59</th>\n",
       "      <td>62224</td>\n",
       "      <td>214.090</td>\n",
       "    </tr>\n",
       "  </tbody>\n",
       "</table>\n",
       "<p>11831383 rows × 2 columns</p>\n",
       "</div>"
      ],
      "text/plain": [
       "                       SIZE    PRICE\n",
       "DATETIME                            \n",
       "2015-01-02 09:30:00  759542   46.685\n",
       "2015-01-02 09:30:01     837   46.660\n",
       "2015-01-02 09:30:02     100   46.680\n",
       "2015-01-02 09:30:03    1288   46.660\n",
       "2015-01-02 09:30:04    3241   46.660\n",
       "...                     ...      ...\n",
       "2020-12-14 15:59:55    6367  214.080\n",
       "2020-12-14 15:59:56    7856  214.150\n",
       "2020-12-14 15:59:57   41730  213.800\n",
       "2020-12-14 15:59:58   19376  213.990\n",
       "2020-12-14 15:59:59   62224  214.090\n",
       "\n",
       "[11831383 rows x 2 columns]"
      ]
     },
     "execution_count": 28,
     "metadata": {},
     "output_type": "execute_result"
    }
   ],
   "source": [
    "df"
   ]
  },
  {
   "cell_type": "code",
   "execution_count": 52,
   "metadata": {},
   "outputs": [],
   "source": [
    "df = pd.read_pickle('MSFT_2015_2020.pickle')"
   ]
  },
  {
   "cell_type": "code",
   "execution_count": null,
   "metadata": {},
   "outputs": [],
   "source": [
    "def plot_one_day():\n",
    "    plt.scatter(df.iloc[5000000:5002000].index, df.iloc[5000000:5002000].PRICE,s=4)\n",
    "    plt.xticks(rotation=45)\n",
    "    plt.show()\n",
    "def plot_all():\n",
    "    plt.plot(df.index, df.PRICE)\n",
    "    plt.xticks(rotation=45)\n",
    "    plt.show()\n",
    "plot_one_day()\n",
    "plot_all()\n"
   ]
  },
  {
   "cell_type": "code",
   "execution_count": 7,
   "metadata": {},
   "outputs": [
    {
     "data": {
      "image/png": "[encoded data removed]",
      "text/plain": [
       "<Figure size 432x288 with 1 Axes>"
      ]
     },
     "metadata": {
      "needs_background": "light"
     },
     "output_type": "display_data"
    }
   ],
   "source": [
    "#######################################\n",
    "###                                 ###\n",
    "###    STEP 2: Daily volatility     ###\n",
    "###                                 ###\n",
    "#######################################\n",
    "def Parzen(x):\n",
    "    if 0<=x<=1/2:\n",
    "        return 1-6*x**2+6*x**3\n",
    "    elif 1/2<=x<=1:\n",
    "        return 2*(1-x)**3\n",
    "    elif x>1:\n",
    "        return 0\n",
    "plt.figure()\n",
    "plt.plot(np.arange(-1,1,0.01),[Parzen(w) for w in np.arange(-1,1,0.01)])\n",
    "plt.xlabel('x')\n",
    "plt.ylabel('Parzen k(x)')\n",
    "plt.show()"
   ]
  },
  {
   "cell_type": "code",
   "execution_count": null,
   "metadata": {},
   "outputs": [],
   "source": [
    "class volatility():\n",
    "    def __init__(self):\n",
    "        self.timeseries = df[['PRICE']]\n",
    "        return\n",
    "    \n",
    "    \n",
    "    def Parzen(self,x):\n",
    "        if 0<=x<=1/2:\n",
    "            return 1-6*x**2+6*x**3\n",
    "        elif 1/2<=x<=1:\n",
    "            return 2*(1-x)**3\n",
    "        elif x>1:\n",
    "            return 0\n",
    "        \n",
    "    def sparse_variance(self):\n",
    "        self.timeseries"
   ]
  },
  {
   "cell_type": "code",
   "execution_count": null,
   "metadata": {},
   "outputs": [],
   "source": []
  },
  {
   "cell_type": "code",
   "execution_count": 60,
   "metadata": {},
   "outputs": [],
   "source": [
    "spx = df[['PRICE']].iloc[:1000000]"
   ]
  },
  {
   "cell_type": "code",
   "execution_count": null,
   "metadata": {},
   "outputs": [],
   "source": [
    "spx['sqrt']= np.sqrt(spx['PRICE'])\n",
    "spx['log_sqrt'] = np.log(spx['sqrt'])"
   ]
  },
  {
   "cell_type": "code",
   "execution_count": 61,
   "metadata": {},
   "outputs": [],
   "source": [
    "def del_Raw(q, x): \n",
    "    return [np.mean(np.abs(spx['log_sqrt'] - spx['log_sqrt'].shift(lag)) ** q)\n",
    "            for lag in x]"
   ]
  },
  {
   "cell_type": "code",
   "execution_count": 62,
   "metadata": {},
   "outputs": [
    {
     "data": {
      "image/png": "[encoded data removed]",
      "text/plain": [
       "<Figure size 576x576 with 1 Axes>"
      ]
     },
     "metadata": {
      "needs_background": "light"
     },
     "output_type": "display_data"
    }
   ],
   "source": [
    "plt.figure(figsize=(8, 8))\n",
    "plt.xlabel('$log(\\Delta)$')\n",
    "plt.ylabel('$log\\  m(q.\\Delta)$')\n",
    "plt.ylim=(-3, -.5)\n",
    "\n",
    "zeta_q = list()\n",
    "qVec = np.array([.5, 1, 1.5, 2, 3])\n",
    "x = np.arange(1, 100)\n",
    "for q in qVec:\n",
    "    plt.plot(np.log(x), np.log(del_Raw(q, x)), 'o') \n",
    "    model = np.polyfit(np.log(x), np.log(del_Raw(q, x)), 1)\n",
    "    plt.plot(np.log(x), np.log(x) * model[0] + model[1])\n",
    "    zeta_q.append(model[0])\n",
    "    \n",
    "\n"
   ]
  },
  {
   "cell_type": "code",
   "execution_count": 63,
   "metadata": {},
   "outputs": [
    {
     "name": "stdout",
     "output_type": "stream",
     "text": [
      "0.4910107527306072\n"
     ]
    },
    {
     "data": {
      "image/png": "[encoded data removed]",
      "text/plain": [
       "<Figure size 576x576 with 1 Axes>"
      ]
     },
     "metadata": {
      "needs_background": "light"
     },
     "output_type": "display_data"
    }
   ],
   "source": [
    "plt.figure(figsize=(8,8))\n",
    "plt.xlabel('q')\n",
    "plt.ylabel('$\\zeta_{q}$')\n",
    "plt.plot(qVec, zeta_q, 'or')\n",
    "\n",
    "line = np.polyfit(qVec[:4], zeta_q[:4],1)\n",
    "plt.plot(qVec, line[0] * qVec + line[1])\n",
    "h_est= line[0]\n",
    "print(h_est)"
   ]
  },
  {
   "cell_type": "code",
   "execution_count": null,
   "metadata": {},
   "outputs": [],
   "source": []
  }
 ],
 "metadata": {
  "kernelspec": {
   "display_name": "Python 3",
   "language": "python",
   "name": "python3"
  },
  "language_info": {
   "codemirror_mode": {
    "name": "ipython",
    "version": 3
   },
   "file_extension": ".py",
   "mimetype": "text/x-python",
   "name": "python",
   "nbconvert_exporter": "python",
   "pygments_lexer": "ipython3",
   "version": "3.8.3"
  }
 },
 "nbformat": 4,
 "nbformat_minor": 4
}
