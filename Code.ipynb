{
 "cells": [
  {
   "cell_type": "code",
   "execution_count": 3,
   "metadata": {},
   "outputs": [],
   "source": [
    "import numpy as np\n",
    "import pandas as pd\n",
    "from glob import glob\n",
    "from joblib import Parallel, delayed\n",
    "import matplotlib.pyplot as plt"
   ]
  },
  {
   "cell_type": "code",
   "execution_count": 1,
   "metadata": {},
   "outputs": [],
   "source": [
    "class datacleaner():\n",
    "    def __init__(self):\n",
    "        self.flist = glob('./rawfiles/*csv')\n",
    "        dfs= Parallel(n_jobs=2)(delayed(pd.read_csv)(i) for i in flist)\n",
    "        self.df = pd.concat(dfs)\n",
    "        self.clean()\n",
    "    def clean(self):\n",
    "        df = self.df\n",
    "        df['DATETIME'] = df['DATE'].astype(str) + ' ' + df['TIME']\n",
    "        df['DATETIME'] = pd.to_datetime(df['DATETIME'])\n",
    "        \n",
    "        df = df[['DATETIME','PRICE','SIZE']]\n",
    "        df['PRICE'] = df['PRICE'].astype(np.float32)\n",
    "        df['SIZE'] = df['PRICE'].astype(int)\n",
    "        \n",
    "        df = df.sort_values(by='DATETIME').reset_index().drop('index',axis=1)\n",
    "        \n",
    "        df = df.drop(df[df.PRICE>5000].index)\n",
    "        \n",
    "        self.hourly=df.resample('H', on='DATETIME').median()\n",
    "        self.df = df\n",
    "        \n",
    "        \n",
    "    def neg_outlier(self):\n",
    "        prices = self.df.PRICE\n",
    "        r = prices.rolling(window=4000)  # Create a rolling object \n",
    "        mps = r.mean() - 60. * r.std()  # Combine a mean and stdev on that object\n",
    "        outliers = prices[prices < mps].index\n",
    "    \n",
    "        self.df = self.df.drop(outliers)\n",
    "        self.write()\n",
    "        \n",
    "    def write(self):\n",
    "        self.df.to_pickle('AMZN_2007_2014.pickle')\n",
    "        self.hourly.to_pickle('AMZN_hourly.pickle')"
   ]
  },
  {
   "cell_type": "code",
   "execution_count": 4,
   "metadata": {},
   "outputs": [],
   "source": [
    "df = pd.read_pickle('AMZN_2007_2014.pickle')"
   ]
  },
  {
   "cell_type": "code",
   "execution_count": 50,
   "metadata": {},
   "outputs": [
    {
     "data": {
      "image/png": "[encoded data removed]",
      "text/plain": [
       "<Figure size 432x288 with 1 Axes>"
      ]
     },
     "metadata": {
      "needs_background": "light"
     },
     "output_type": "display_data"
    }
   ],
   "source": [
    "plt.plot(df.DATETIME, df.PRICE)\n",
    "plt.show()"
   ]
  }
 ],
 "metadata": {
  "kernelspec": {
   "display_name": "Python 3",
   "language": "python",
   "name": "python3"
  },
  "language_info": {
   "codemirror_mode": {
    "name": "ipython",
    "version": 3
   },
   "file_extension": ".py",
   "mimetype": "text/x-python",
   "name": "python",
   "nbconvert_exporter": "python",
   "pygments_lexer": "ipython3",
   "version": "3.8.3"
  }
 },
 "nbformat": 4,
 "nbformat_minor": 4
}
