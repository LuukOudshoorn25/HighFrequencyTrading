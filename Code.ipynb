{
 "cells": [
  {
   "cell_type": "code",
   "execution_count": 2,
   "metadata": {},
   "outputs": [],
   "source": [
    "import numpy as np\n",
    "import pandas as pd\n",
    "from glob import glob\n",
    "from joblib import Parallel, delayed\n",
    "import matplotlib.pyplot as plt"
   ]
  },
  {
   "cell_type": "code",
   "execution_count": null,
   "metadata": {},
   "outputs": [],
   "source": [
    "#######################################\n",
    "###                                 ###\n",
    "###   STEP 1: Read and clean data   ###\n",
    "###                                 ###\n",
    "#######################################\n",
    "\n",
    "class datacleaner():\n",
    "    def __init__(self):\n",
    "        # Get list of all files\n",
    "        flist = glob('./rawfiles/*/*csv')\n",
    "        # Parallel read the files\n",
    "        dfs= Parallel(n_jobs=8)(delayed(pd.read_csv)(i) for i in flist)\n",
    "        # Concatenate them vertically\n",
    "        self.df = pd.concat(dfs)\n",
    "        # Get datetime and drop unknowns\n",
    "        self.clean()\n",
    "        self.neg_outlier()\n",
    "        # Drop low outliers\n",
    "        self.drop_corr()\n",
    "        # Drop corrected\n",
    "        self.reset_index()\n",
    "        # Group by datetime (sum of sizes and median of prices)\n",
    "        self.aggregate()\n",
    "        # Get hourly dataframe        \n",
    "        self.get_hourly()\n",
    "        # Write to files\n",
    "        self.write()\n",
    "        \n",
    "    def clean(self):\n",
    "        df = self.df\n",
    "        df['DATETIME'] = df['DATE'].astype(str) + ' ' + df['TIME']\n",
    "        df['DATETIME'] = pd.to_datetime(df['DATETIME'])\n",
    "        \n",
    "        # Drop unknowns (9999.999)\n",
    "        df = df.drop(df[df.PRICE>5000].index)\n",
    "        self.df = df\n",
    "        \n",
    "        \n",
    "    def neg_outlier(self):\n",
    "        # rolling window to remove outliers at 60std\n",
    "        prices = self.df.PRICE\n",
    "        r = prices.rolling(window=4000)  # Create a rolling object \n",
    "        mps = r.mean() - 60. * r.std()  # Combine a mean and stdev on that object\n",
    "        outliers = prices[prices < mps].index\n",
    "        self.df = self.df.drop(outliers)\n",
    "        \n",
    "        \n",
    "    def drop_corr(self):\n",
    "        # Drop all items that are corrected (see Barndorff-Nielsen)\n",
    "        self.df = self.df[self.df.CORR==0]\n",
    "        self.df = self.df[self.df.COND.astype(str).apply(lambda x: 'F' in x or 'E' in x)]\n",
    "        \n",
    "    def reset_index(self):\n",
    "        # Reset the index\n",
    "        self.df = self.df.sort_values(by='DATETIME').reset_index().drop('index',axis=1)\n",
    "        \n",
    "    def aggregate(self):\n",
    "        # Groupby datetime (e.g. two ticks at same moment become one)\n",
    "        self.df = pd.DataFrame({'SIZE':self.df.groupby('DATETIME').SIZE.sum(),\n",
    "                                'PRICE':self.df.groupby('DATETIME').PRICE.median()})\n",
    "        \n",
    "    def get_hourly(self):\n",
    "        # Aggregate to hourly dateframe, just for visualization\n",
    "        self.hourly=df.resample('H', on='DATETIME').median()\n",
    "        \n",
    "    def write(self):\n",
    "        # Write to pickle files\n",
    "        self.df.to_pickle('AMZN_2007_2014.pickle')\n",
    "        self.hourly.to_pickle('AMZN_hourly.pickle')\n",
    "    \n",
    "    def get_df(self):\n",
    "        return self.df\n",
    "        \n",
    "reader = datacleaner()\n",
    "df = reader.get_df()"
   ]
  },
  {
   "cell_type": "code",
   "execution_count": null,
   "metadata": {},
   "outputs": [],
   "source": [
    "df = pd.read_pickle('AMZN_2007_2014.pickle')"
   ]
  },
  {
   "cell_type": "code",
   "execution_count": 70,
   "metadata": {},
   "outputs": [
    {
     "data": {
      "image/png": "[encoded data removed]",
      "text/plain": [
       "<Figure size 432x288 with 1 Axes>"
      ]
     },
     "metadata": {
      "needs_background": "light"
     },
     "output_type": "display_data"
    }
   ],
   "source": [
    "plt.plot(df.index, df.PRICE)\n",
    "plt.show()"
   ]
  },
  {
   "cell_type": "code",
   "execution_count": 75,
   "metadata": {},
   "outputs": [],
   "source": [
    "#######################################\n",
    "###                                 ###\n",
    "###    STEP 2: Daily volatility     ###\n",
    "###                                 ###\n",
    "#######################################\n"
   ]
  },
  {
   "cell_type": "code",
   "execution_count": 76,
   "metadata": {},
   "outputs": [
    {
     "data": {
      "text/html": [
       "<div>\n",
       "<style scoped>\n",
       "    .dataframe tbody tr th:only-of-type {\n",
       "        vertical-align: middle;\n",
       "    }\n",
       "\n",
       "    .dataframe tbody tr th {\n",
       "        vertical-align: top;\n",
       "    }\n",
       "\n",
       "    .dataframe thead th {\n",
       "        text-align: right;\n",
       "    }\n",
       "</style>\n",
       "<table border=\"1\" class=\"dataframe\">\n",
       "  <thead>\n",
       "    <tr style=\"text-align: right;\">\n",
       "      <th></th>\n",
       "      <th>SIZE</th>\n",
       "      <th>PRICE</th>\n",
       "    </tr>\n",
       "    <tr>\n",
       "      <th>DATETIME</th>\n",
       "      <th></th>\n",
       "      <th></th>\n",
       "    </tr>\n",
       "  </thead>\n",
       "  <tbody>\n",
       "    <tr>\n",
       "      <th>2007-02-26 09:31:21</th>\n",
       "      <td>100</td>\n",
       "      <td>40.89</td>\n",
       "    </tr>\n",
       "    <tr>\n",
       "      <th>2007-02-26 09:38:10</th>\n",
       "      <td>400</td>\n",
       "      <td>41.13</td>\n",
       "    </tr>\n",
       "    <tr>\n",
       "      <th>2007-02-26 09:56:19</th>\n",
       "      <td>100</td>\n",
       "      <td>41.03</td>\n",
       "    </tr>\n",
       "    <tr>\n",
       "      <th>2007-02-26 09:56:24</th>\n",
       "      <td>100</td>\n",
       "      <td>41.03</td>\n",
       "    </tr>\n",
       "    <tr>\n",
       "      <th>2007-02-26 10:00:54</th>\n",
       "      <td>100</td>\n",
       "      <td>40.93</td>\n",
       "    </tr>\n",
       "    <tr>\n",
       "      <th>...</th>\n",
       "      <td>...</td>\n",
       "      <td>...</td>\n",
       "    </tr>\n",
       "    <tr>\n",
       "      <th>2014-12-31 15:59:55</th>\n",
       "      <td>1118</td>\n",
       "      <td>310.29</td>\n",
       "    </tr>\n",
       "    <tr>\n",
       "      <th>2014-12-31 15:59:56</th>\n",
       "      <td>400</td>\n",
       "      <td>310.36</td>\n",
       "    </tr>\n",
       "    <tr>\n",
       "      <th>2014-12-31 15:59:57</th>\n",
       "      <td>400</td>\n",
       "      <td>310.28</td>\n",
       "    </tr>\n",
       "    <tr>\n",
       "      <th>2014-12-31 15:59:58</th>\n",
       "      <td>1904</td>\n",
       "      <td>310.29</td>\n",
       "    </tr>\n",
       "    <tr>\n",
       "      <th>2014-12-31 15:59:59</th>\n",
       "      <td>3952</td>\n",
       "      <td>310.36</td>\n",
       "    </tr>\n",
       "  </tbody>\n",
       "</table>\n",
       "<p>9651602 rows × 2 columns</p>\n",
       "</div>"
      ],
      "text/plain": [
       "                     SIZE   PRICE\n",
       "DATETIME                         \n",
       "2007-02-26 09:31:21   100   40.89\n",
       "2007-02-26 09:38:10   400   41.13\n",
       "2007-02-26 09:56:19   100   41.03\n",
       "2007-02-26 09:56:24   100   41.03\n",
       "2007-02-26 10:00:54   100   40.93\n",
       "...                   ...     ...\n",
       "2014-12-31 15:59:55  1118  310.29\n",
       "2014-12-31 15:59:56   400  310.36\n",
       "2014-12-31 15:59:57   400  310.28\n",
       "2014-12-31 15:59:58  1904  310.29\n",
       "2014-12-31 15:59:59  3952  310.36\n",
       "\n",
       "[9651602 rows x 2 columns]"
      ]
     },
     "execution_count": 76,
     "metadata": {},
     "output_type": "execute_result"
    }
   ],
   "source": [
    "df"
   ]
  },
  {
   "cell_type": "code",
   "execution_count": null,
   "metadata": {},
   "outputs": [],
   "source": []
  }
 ],
 "metadata": {
  "kernelspec": {
   "display_name": "Python 3",
   "language": "python",
   "name": "python3"
  },
  "language_info": {
   "codemirror_mode": {
    "name": "ipython",
    "version": 3
   },
   "file_extension": ".py",
   "mimetype": "text/x-python",
   "name": "python",
   "nbconvert_exporter": "python",
   "pygments_lexer": "ipython3",
   "version": "3.8.3"
  }
 },
 "nbformat": 4,
 "nbformat_minor": 4
}
