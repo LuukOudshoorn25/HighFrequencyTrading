{
 "cells": [
  {
   "cell_type": "code",
   "execution_count": 1,
   "metadata": {},
   "outputs": [],
   "source": [
    "import numpy as np\n",
    "import pandas as pd\n",
    "from glob import glob\n",
    "from joblib import Parallel, delayed\n",
    "import matplotlib.pyplot as plt\n",
    "# from pandarallel import pandarallel\n",
    "import matplotlib.dates as mdates\n",
    "import time\n",
    "# pandarallel.initialize()\n"
   ]
  },
  {
   "cell_type": "code",
   "execution_count": 2,
   "metadata": {},
   "outputs": [],
   "source": [
    "plt.style.use('MNRAS_stylesheet')"
   ]
  },
  {
   "cell_type": "code",
   "execution_count": 3,
   "metadata": {},
   "outputs": [
    {
     "name": "stdout",
     "output_type": "stream",
     "text": [
      "Lengths [51075992, 29500474, 39836829, 42336468, 81459223, 39138395]\n",
      "108.56 Read data\n",
      "269.12 Selected on exchange\n",
      "318.01 Dropped corrected\n",
      "484.18 Made seconds from millisecond data\n",
      "533.47 Grouped by datetime\n",
      "537.85 Converted to datetimes\n",
      "539.71 Done\n",
      "283347381 76501603 76501603 76501603 11831383 11831383\n"
     ]
    }
   ],
   "source": [
    "#######################################\n",
    "###                                 ###\n",
    "###   STEP 1: Read and clean data   ###\n",
    "###                                 ###\n",
    "#######################################\n",
    "\n",
    "class datacleaner():\n",
    "    def __init__(self):\n",
    "        tstart=time.time()\n",
    "        # Get list of all files\n",
    "        flist = glob('./MSFT/*csv')\n",
    "        # Parallel read the files\n",
    "        dfs= Parallel(n_jobs=8)(delayed(pd.read_csv)(i) for i in flist)\n",
    "        print(\"Lengths\",[len(w) for w in dfs])\n",
    "        total_length1 = np.sum([len(w) for w in dfs])\n",
    "        print(np.round(time.time()-tstart,2),\"Read data\")\n",
    "        # Select only exchange \"Q\"\n",
    "        dfs= Parallel(n_jobs=8)(delayed(self.select_exchange)(i) for i in dfs)\n",
    "        print(np.round(time.time()-tstart,2),\"Selected on exchange\")\n",
    "        total_length2 = np.sum([len(w) for w in dfs])\n",
    "        # Drop corrected\n",
    "        dfs= Parallel(n_jobs=8)(delayed(self.drop_corr)(i) for i in dfs)\n",
    "        print(np.round(time.time()-tstart,2),\"Dropped corrected\")\n",
    "        total_length3 = np.sum([len(w) for w in dfs])\n",
    "        #pd.concat(dfs).to_pickle('MSFT_2015_2020_highres.pickle')\n",
    "        # Aggregate to second level(otherwise things are way too slow)\n",
    "        dfs= Parallel(n_jobs=8)(delayed(self.to_seconds)(i) for i in dfs)\n",
    "        print(np.round(time.time()-tstart,2),\"Made seconds from millisecond data\")\n",
    "        total_length4 = np.sum([len(w) for w in dfs])\n",
    "        # Group by datetime (sum of sizes and median of prices)\n",
    "        dfs= Parallel(n_jobs=8)(delayed(self.aggregate)(i) for i in dfs)\n",
    "        print(np.round(time.time()-tstart,2),\"Grouped by datetime\")\n",
    "        total_length5 = np.sum([len(w) for w in dfs])\n",
    "        # Remove low outliers\n",
    "        #dfs= Parallel(n_jobs=8)(delayed(self.neg_outlier)(i) for i in dfs)\n",
    "        #print(np.round(time.time()-tstart,2),\"Removed low outliers\")\n",
    "        # Get datetime and drop unknowns\n",
    "        dfs= Parallel(n_jobs=8)(delayed(self.clean)(i) for i in dfs)\n",
    "        print(np.round(time.time()-tstart,2),\"Converted to datetimes\")\n",
    "        total_length6 = np.sum([len(w) for w in dfs])\n",
    "\n",
    "        # Concatenate them vertically\n",
    "        self.df = pd.concat(dfs)        \n",
    "        # Sort them\n",
    "        self.sort()\n",
    "        # Get hourly dataframe        \n",
    "        self.get_hourly()\n",
    "        # Write to files\n",
    "        self.write()\n",
    "        print(np.round(time.time()-tstart,2), \"Done\")\n",
    "        print(total_length1, total_length2, total_length3, \n",
    "              total_length4, total_length5, total_length6)\n",
    "        \n",
    "        \n",
    "    def to_seconds(self,df):\n",
    "        df['time_sec'] = df.TIME_M.apply(lambda x: x.split('.')[0])\n",
    "        return df\n",
    "    \n",
    "    def select_exchange(self,df):\n",
    "        return df[df.EX=='Q']\n",
    "        \n",
    "    def clean(self,df):\n",
    "        # Remove 9999.999 values\n",
    "        df = df.drop(df[df.PRICE>5000].index)\n",
    "        df = df.reset_index()\n",
    "        df['DATETIME'] = df['DATE'].astype(str) + ' ' + df['time_sec']\n",
    "        df['DATETIME'] = pd.to_datetime(df['DATETIME'])\n",
    "        return df\n",
    "        \n",
    "        \n",
    "    def neg_outlier(self,df):\n",
    "        # rolling window to remove outliers at 60std\n",
    "        prices = df.PRICE\n",
    "        r = prices.rolling(window=4000)  # Create a rolling object \n",
    "        mps = r.mean() - 60. * r.std()  # Combine a mean and stdev on that object\n",
    "        outliers = prices[prices < mps].index\n",
    "        df = df.drop(outliers)\n",
    "        return df\n",
    "        \n",
    "    def drop_corr(self,df):\n",
    "        # Drop all items that are corrected (see Barndorff-Nielsen)\n",
    "        df = df[df.TR_CORR==0]\n",
    "        return df\n",
    "        \n",
    "        \n",
    "    def aggregate(self,df):\n",
    "        # Groupby datetime (e.g. two ticks at same moment become one)\n",
    "        df = pd.DataFrame({'SIZE':df.groupby(['DATE','time_sec']).SIZE.sum(),\n",
    "                           'PRICE':df.groupby(['DATE','time_sec']).PRICE.median()})\n",
    "        return df\n",
    "        \n",
    "    def sort(self):\n",
    "        self.df = self.df[['SIZE','PRICE','DATETIME']].set_index('DATETIME')\n",
    "        self.df = self.df.sort_index()\n",
    "        \n",
    "    def get_hourly(self):\n",
    "        # Aggregate to hourly dateframe, just for visualization\n",
    "        self.hourly=self.df.reset_index().resample('H', on='DATETIME').median()\n",
    "        \n",
    "    def write(self):\n",
    "        # Write to pickle files\n",
    "        self.df.to_pickle('MSFT_2015_2020.pickle')\n",
    "        self.hourly.to_pickle('MSFT_hourly.pickle')\n",
    "    \n",
    "    def get_df(self):\n",
    "        return self.df\n",
    "        \n",
    "reader = datacleaner()\n",
    "df = reader.get_df()"
   ]
  },
  {
   "cell_type": "code",
   "execution_count": null,
   "metadata": {},
   "outputs": [],
   "source": [
    "# Read in pickle file\n",
    "df = pd.read_pickle('MSFT_2015_2020.pickle')"
   ]
  },
  {
   "cell_type": "code",
   "execution_count": 74,
   "metadata": {},
   "outputs": [],
   "source": [
    "# Highres df (either all (Luuk) or COVID period\n",
    "#df_highres = pd.read_pickle('MSFT_2015_2020_highres.pickle')\n",
    "df_highres = pd.read_pickle('COVID_highres.pickle')"
   ]
  },
  {
   "cell_type": "code",
   "execution_count": null,
   "metadata": {},
   "outputs": [],
   "source": [
    "# Read in splitted files\n",
    "df = pd.concat([pd.read_pickle(w) for w in ['df.part1.pickle','df.part2.pickle','df.part3.pickle']])"
   ]
  },
  {
   "cell_type": "code",
   "execution_count": 4,
   "metadata": {},
   "outputs": [
    {
     "data": {
      "image/png": "[encoded data removed]",
      "text/plain": [
       "<Figure size 239.112x144 with 1 Axes>"
      ]
     },
     "metadata": {
      "needs_background": "light"
     },
     "output_type": "display_data"
    },
    {
     "data": {
      "image/png": "[encoded data removed]",
      "text/plain": [
       "<Figure size 239.112x144 with 1 Axes>"
      ]
     },
     "metadata": {
      "needs_background": "light"
     },
     "output_type": "display_data"
    }
   ],
   "source": [
    "def plot_one_day():\n",
    "    plt.figure(figsize=(3.321,2))\n",
    "    plt.scatter(corona_peak.index, corona_peak.PRICE,s=0.02,color='black')\n",
    "    \n",
    "    xformatter = mdates.DateFormatter('%H:%M')\n",
    "    plt.gcf().axes[0].xaxis.set_major_formatter(xformatter)\n",
    "    plt.xlabel('Time')\n",
    "    plt.yticks(np.arange(135,149,3))\n",
    "    plt.ylabel('Stock price ($)')\n",
    "    plt.tight_layout()\n",
    "    plt.savefig('MSFT_intraday.pdf')\n",
    "    \n",
    "    plt.show()\n",
    "def plot_all():\n",
    "    plt.figure(figsize=(3.321,2))\n",
    "    plt.plot(df.index, df.PRICE,color='black',lw=1)\n",
    "    \n",
    "    plt.xlabel('Date')\n",
    "    plt.ylabel('Stock price ($)')\n",
    "    plt.tight_layout()\n",
    "    plt.savefig('MSFT_6years.pdf')\n",
    "    plt.show()\n",
    "plot_one_day()\n",
    "plot_all()"
   ]
  },
  {
   "cell_type": "code",
   "execution_count": 5,
   "metadata": {
    "scrolled": true
   },
   "outputs": [
    {
     "data": {
      "image/png": "[encoded data removed]",
      "text/plain": [
       "<Figure size 432x288 with 1 Axes>"
      ]
     },
     "metadata": {
      "needs_background": "light"
     },
     "output_type": "display_data"
    }
   ],
   "source": [
    "from scipy.stats import norm\n",
    "class realized_variance():\n",
    "    def __init__(self):\n",
    "#         self.df = pd.read_pickle('MSFT_2015_2020.pickle')\n",
    "        self.df = df\n",
    "        self.df = self.df[['PRICE']].resample(\"5T\").median() \n",
    "        self.to_returns()\n",
    "        self.RV()\n",
    "        self.RVOL()\n",
    "        self.plot()\n",
    "        return\n",
    "    \n",
    "    def to_returns(self):\n",
    "        self.logprice = np.log(self.df[['PRICE']])\n",
    "        self.returns  = (self.logprice.diff()*100).iloc[1:]\n",
    "        \n",
    "    def get_df(self):\n",
    "        return self.returns\n",
    "    \n",
    "    def RV(self):\n",
    "        values = self.returns#.iloc[:10000]\n",
    "        values.columns = ['return']\n",
    "        \"\"\"values['day'] = pd.Series(values.index).apply(lambda x: pd.to_datetime(x.strftime(\"%Y-%m-%d\"))).values\n",
    "        kernel_mu  = self.returns.resample(\"1D\").mean()\n",
    "        kernel_mu.columns = ['mean']\n",
    "        kernel_std = self.returns.resample(\"1D\").std()\n",
    "        kernel_std.columns = ['std']\n",
    "        values = pd.merge(values,kernel_mu, left_on='day',right_index=True)\n",
    "        values = pd.merge(values,kernel_std, left_on='day',right_index=True)\n",
    "        \n",
    "        weights = norm(values['mean'], values['std']).pdf(values['return'])\"\"\"\n",
    "        weighted_return = values['return']**2 #*weights\n",
    "        self.RV = weighted_return.resample(\"1D\").sum()\n",
    "        self.RV = self.RV[(self.RV != 0)]\n",
    "        \n",
    "    def RVOL(self):\n",
    "        self.RVOL = np.sqrt(self.RV)\n",
    "        self.RVOL = self.RVOL*np.sqrt(252)\n",
    "        \n",
    "    def plot(self):\n",
    "        fig,ax = plt.subplots()\n",
    "        ax.plot(self.RVOL,label='RVOL')\n",
    "        (self.returns*100).rolling(40).std().plot(color='red',ax=ax,label='Rolling std')\n",
    "        plt.legend()\n",
    "        plt.show()\n",
    "\n",
    "relvar = realized_variance()\n",
    "retdf=relvar.get_df()"
   ]
  },
  {
   "cell_type": "code",
   "execution_count": 6,
   "metadata": {},
   "outputs": [
    {
     "data": {
      "image/png": "[encoded data removed]",
      "text/plain": [
       "<Figure size 432x288 with 1 Axes>"
      ]
     },
     "metadata": {
      "needs_background": "light"
     },
     "output_type": "display_data"
    }
   ],
   "source": [
    "from scipy.stats import norm\n",
    "class RV_highfrequency():\n",
    "    def __init__(self):\n",
    "        self.df = df.loc['2020-03-19']\n",
    "        self.df = self.df[['PRICE']]\n",
    "        self.to_returns()\n",
    "        self.RV()\n",
    "        self.RV_parzen()\n",
    "        self.RVOL()\n",
    "        self.plot()\n",
    "        return\n",
    "    \n",
    "    def to_returns(self):\n",
    "        self.logprice = np.log(self.df[['PRICE']])\n",
    "        self.returns  = (self.logprice.diff()*100).iloc[1:]\n",
    "        \n",
    "    def get_df(self):\n",
    "        return self.returns\n",
    "    \n",
    "    def Parzen(self,x):\n",
    "        if 0<=x<=1/2:\n",
    "            return 1-6*x**2+6*x**3\n",
    "        elif 1/2<=x<=1:\n",
    "            return 2*(1-x)**3\n",
    "        elif x>1:\n",
    "            return 0\n",
    "        \n",
    "    def Kernel(self):\n",
    "        values = self.returns\n",
    "        values.columns = ['return']\n",
    "        weights = np.zeros(len(values['return']))\n",
    "        for i, value in enumerate(values['return']):\n",
    "            weights[i] = self.Parzen(abs(value))\n",
    "        return weights\n",
    "    \n",
    "    def RV(self):\n",
    "        values = self.returns\n",
    "        values.columns = ['return']\n",
    "        weighted_return = values['return']**2 #*weights\n",
    "        self.RV = weighted_return\n",
    "        \n",
    "    def RV_gauss(self):\n",
    "        values = self.returns\n",
    "        values.columns = ['return']\n",
    "        values['day'] = pd.Series(values.index).apply(lambda x: pd.to_datetime(x.strftime(\"%Y-%m-%d\"))).values\n",
    "        kernel_mu  = self.returns.resample(\"1D\").mean()\n",
    "        kernel_mu.columns = ['mean']\n",
    "        kernel_std = self.returns.resample(\"1D\").std()\n",
    "        kernel_std.columns = ['std']\n",
    "        values = pd.merge(values,kernel_mu, left_on='day',right_index=True)\n",
    "        values = pd.merge(values,kernel_std, left_on='day',right_index=True)\n",
    "        \n",
    "        weights = norm(values['mean'], values['std']).pdf(values['return'])\n",
    "        weighted_return = weights*values['return']**2 #*weights\n",
    "        self.RV_gauss = weighted_return  \n",
    "    \n",
    "    def RV_parzen(self):\n",
    "        weights = self.Kernel()\n",
    "        values = self.returns\n",
    "        values.columns = ['return']\n",
    "        weighted_return = weights*values['return']**2 #*weights\n",
    "        self.RV_parzen = weighted_return\n",
    "        \n",
    "    def RVOL(self):\n",
    "        self.RVOL = np.sqrt(self.RV)\n",
    "        self.RVOL = self.RVOL.resample(\"5S\").median()\n",
    "        self.RVOL = self.RVOL*np.sqrt(252*60*6.5)\n",
    "        \n",
    "        self.RVOL_parzen = np.sqrt(self.RV_parzen)\n",
    "        self.RVOL_parzen = self.RVOL_parzen.resample(\"5S\").median()\n",
    "        self.RVOL_parzen = self.RVOL_parzen*np.sqrt(252*60*6.5)\n",
    "        \n",
    "#         self.RVOL_gauss = np.sqrt(self.RV_gauss)\n",
    "#         self.RVOL_gauss = self.RVOL_gauss.resample(\"60S\").median()\n",
    "#         self.RVOL_gauss = self.RVOL_gauss*np.sqrt(252*60*6.5)\n",
    "        \n",
    "    def plot(self):\n",
    "        plt.plot(self.RVOL,label='RVOL', color='black', ls='--')\n",
    "        plt.plot(self.RVOL_parzen, label='RVOL Parzen', alpha=0.5)\n",
    "        plt.legend()\n",
    "        plt.show()\n",
    "        \n",
    "        \n",
    "relvar = RV_highfrequency()\n",
    "retdf=relvar.get_df()"
   ]
  },
  {
   "cell_type": "code",
   "execution_count": 7,
   "metadata": {},
   "outputs": [],
   "source": [
    "closingprices = df[['PRICE']].groupby(df.index.date).apply(lambda x: x.iloc[[-1]])\n",
    "closingprices.index = closingprices.index.droplevel(0)\n",
    "daily_returns = np.log(closingprices).diff().iloc[1:]"
   ]
  },
  {
   "cell_type": "code",
   "execution_count": 8,
   "metadata": {},
   "outputs": [
    {
     "name": "stderr",
     "output_type": "stream",
     "text": [
      "<ipython-input-8-321fd0d0fbce>:22: RuntimeWarning: invalid value encountered in log\n",
      "  L = -0.5*np.log(2*np.pi) - 0.5*np.log(sigma2) - 0.5*x**2/sigma2\n",
      "<ipython-input-8-321fd0d0fbce>:22: RuntimeWarning: divide by zero encountered in log\n",
      "  L = -0.5*np.log(2*np.pi) - 0.5*np.log(sigma2) - 0.5*x**2/sigma2\n",
      "<ipython-input-8-321fd0d0fbce>:22: RuntimeWarning: divide by zero encountered in true_divide\n",
      "  L = -0.5*np.log(2*np.pi) - 0.5*np.log(sigma2) - 0.5*x**2/sigma2\n",
      "<ipython-input-8-321fd0d0fbce>:22: RuntimeWarning: invalid value encountered in subtract\n",
      "  L = -0.5*np.log(2*np.pi) - 0.5*np.log(sigma2) - 0.5*x**2/sigma2\n",
      "<ipython-input-8-321fd0d0fbce>:14: RuntimeWarning: overflow encountered in exp\n",
      "  alpha = np.exp(params[1])\n",
      "<ipython-input-8-321fd0d0fbce>:21: RuntimeWarning: invalid value encountered in double_scalars\n",
      "  sigma2[t] = omega + alpha*x[t-1] + beta*sigma2[t-1]\n"
     ]
    },
    {
     "name": "stdout",
     "output_type": "stream",
     "text": [
      "[0.4118001567319474, 0.2081900909709043, 0.0]\n"
     ]
    },
    {
     "name": "stderr",
     "output_type": "stream",
     "text": [
      "<ipython-input-8-321fd0d0fbce>:22: RuntimeWarning: invalid value encountered in log\n",
      "  L = -0.5*np.log(2*np.pi) - 0.5*np.log(sigma2) - 0.5*x**2/sigma2\n",
      "<ipython-input-8-321fd0d0fbce>:22: RuntimeWarning: invalid value encountered in log\n",
      "  L = -0.5*np.log(2*np.pi) - 0.5*np.log(sigma2) - 0.5*x**2/sigma2\n"
     ]
    },
    {
     "data": {
      "image/png": "[encoded data removed]",
      "text/plain": [
       "<Figure size 432x288 with 1 Axes>"
      ]
     },
     "metadata": {
      "needs_background": "light"
     },
     "output_type": "display_data"
    }
   ],
   "source": [
    "from scipy.optimize import minimize\n",
    "class estimate_GARCH():\n",
    "    def __init__(self):\n",
    "        self.closingreturns = daily_returns.values.flatten()*100\n",
    "        # Call fit garch\n",
    "        self.fit_garch(self.closingreturns)\n",
    "        self.plot_vola()\n",
    "        return\n",
    "    \n",
    "    def __llik_fun_GARCH__(self,params):\n",
    "        x = self.closingreturns\n",
    "        n = len(x)\n",
    "        omega = np.exp(params[0])\n",
    "        alpha = np.exp(params[1])\n",
    "        beta  = np.exp(params[2])\n",
    "        \n",
    "        sigma2 = np.zeros(n)\n",
    "        sigma2[0] = np.var(x)\n",
    "        \n",
    "        for t in range(1,n):\n",
    "            sigma2[t] = omega + alpha*x[t-1] + beta*sigma2[t-1]\n",
    "        L = -0.5*np.log(2*np.pi) - 0.5*np.log(sigma2) - 0.5*x**2/sigma2\n",
    "        llik = np.mean(L)\n",
    "        return -1*llik\n",
    "    \n",
    "    def fit_garch(self,x):\n",
    "        # Initialize values\n",
    "        a = 0.2 # initial value for alpha\n",
    "        b = 0.6  # initial value for beta\n",
    "        omega = np.nanvar(self.closingreturns)*(1-a-b) # initial value for omega\n",
    "\n",
    "        par_ini = np.array([np.log(omega),np.log(a/(1-a)),np.log(b/(1-b))])\n",
    "        \n",
    "        est = minimize(self.__llik_fun_GARCH__, x0=par_ini)\n",
    "        \n",
    "        omega_hat = np.exp(est.x[0])\n",
    "        alpha_hat = np.exp(est.x[1])/(1+np.exp(est.x[1]))\n",
    "        beta_hat  = np.exp(est.x[2])/(1+np.exp(est.x[2]))\n",
    "    \n",
    "        self.thetahat = [omega_hat,alpha_hat,beta_hat]\n",
    "        print(self.thetahat)\n",
    "        \n",
    "    def plot_vola(self):\n",
    "        x = self.closingreturns\n",
    "        n = len(x)\n",
    "        omega = self.thetahat[0]\n",
    "        alpha = self.thetahat[1]\n",
    "        beta  = self.thetahat[2]\n",
    "        sigma2 = np.zeros(n)\n",
    "        sigma2[0] = np.nanvar(x)\n",
    "        for t in range(1,n):\n",
    "            sigma2[t] = omega + alpha*x[t-1] + beta*sigma2[t-1]\n",
    "        plt.plot(daily_returns.index,np.abs(sigma2)*np.sqrt(252),lw=0.5)\n",
    "        plt.xlabel('Date')\n",
    "        plt.ylabel('Annualized volatility (GARCH)')\n",
    "        plt.show()\n",
    "\n",
    "Garch_func = estimate_GARCH()"
   ]
  },
  {
   "cell_type": "code",
   "execution_count": 426,
   "metadata": {},
   "outputs": [],
   "source": []
  },
  {
   "cell_type": "code",
   "execution_count": null,
   "metadata": {},
   "outputs": [],
   "source": []
  },
  {
   "cell_type": "code",
   "execution_count": null,
   "metadata": {},
   "outputs": [],
   "source": []
  },
  {
   "cell_type": "code",
   "execution_count": null,
   "metadata": {},
   "outputs": [],
   "source": []
  },
  {
   "cell_type": "code",
   "execution_count": null,
   "metadata": {},
   "outputs": [],
   "source": []
  },
  {
   "cell_type": "code",
   "execution_count": 22,
   "metadata": {},
   "outputs": [],
   "source": [
    "results = []\n",
    "for start in np.linspace(0,1e5,int(1e3),dtype=int):\n",
    "    H=0\n",
    "    h = np.arange(0,H,1,dtype=int)\n",
    "    a=retdf.iloc[start:start+int(1e5)].values.flatten()\n",
    "    def gamma_h(h):\n",
    "        return np.sum((a*np.roll(a,h))[h:])\n",
    "    gammas = np.array([gamma_h(w) for w in h])\n",
    "    ks     = np.array([Parzen(w/(H+1)) for w in h])\n",
    "    K = np.sum(ks*gammas)\n",
    "    results.append(K)"
   ]
  },
  {
   "cell_type": "code",
   "execution_count": null,
   "metadata": {},
   "outputs": [],
   "source": []
  },
  {
   "cell_type": "code",
   "execution_count": 6,
   "metadata": {},
   "outputs": [
    {
     "data": {
      "image/png": "[encoded data removed]",
      "text/plain": [
       "<Figure size 432x288 with 1 Axes>"
      ]
     },
     "metadata": {
      "needs_background": "light"
     },
     "output_type": "display_data"
    }
   ],
   "source": [
    "#######################################\n",
    "###                                 ###\n",
    "###    STEP 2: Daily volatility     ###\n",
    "###                                 ###\n",
    "#######################################\n",
    "def Parzen(x):\n",
    "    if 0<=x<=1/2:\n",
    "        return 1-6*x**2+6*x**3\n",
    "    elif 1/2<=x<=1:\n",
    "        return 2*(1-x)**3\n",
    "    elif x>1:\n",
    "        return 0\n",
    "plt.figure()\n",
    "plt.plot(np.arange(-1,1,0.01),[Parzen(w) for w in np.arange(-1,1,0.01)])\n",
    "plt.xlabel('x')\n",
    "plt.ylabel('Parzen k(x)')\n",
    "plt.show()"
   ]
  },
  {
   "cell_type": "code",
   "execution_count": null,
   "metadata": {},
   "outputs": [],
   "source": []
  },
  {
   "cell_type": "code",
   "execution_count": null,
   "metadata": {},
   "outputs": [],
   "source": [
    "class volatility():\n",
    "    def __init__(self):\n",
    "        self.timeseries = df[['PRICE']]\n",
    "        return\n",
    "    \n",
    "    \n",
    "    def Parzen(self,x):\n",
    "        if 0<=x<=1/2:\n",
    "            return 1-6*x**2+6*x**3\n",
    "        elif 1/2<=x<=1:\n",
    "            return 2*(1-x)**3\n",
    "        elif x>1:\n",
    "            return 0\n",
    "        \n",
    "    def sparse_variance(self):\n",
    "        self.timeseries"
   ]
  },
  {
   "cell_type": "code",
   "execution_count": 70,
   "metadata": {},
   "outputs": [
    {
     "data": {
      "text/html": [
       "<div>\n",
       "<style scoped>\n",
       "    .dataframe tbody tr th:only-of-type {\n",
       "        vertical-align: middle;\n",
       "    }\n",
       "\n",
       "    .dataframe tbody tr th {\n",
       "        vertical-align: top;\n",
       "    }\n",
       "\n",
       "    .dataframe thead th {\n",
       "        text-align: right;\n",
       "    }\n",
       "</style>\n",
       "<table border=\"1\" class=\"dataframe\">\n",
       "  <thead>\n",
       "    <tr style=\"text-align: right;\">\n",
       "      <th></th>\n",
       "      <th>SIZE</th>\n",
       "      <th>PRICE</th>\n",
       "    </tr>\n",
       "    <tr>\n",
       "      <th>DATETIME</th>\n",
       "      <th></th>\n",
       "      <th></th>\n",
       "    </tr>\n",
       "  </thead>\n",
       "  <tbody>\n",
       "    <tr>\n",
       "      <th>2015-01-02 09:30:00</th>\n",
       "      <td>759542</td>\n",
       "      <td>46.685001</td>\n",
       "    </tr>\n",
       "    <tr>\n",
       "      <th>2015-01-02 09:30:01</th>\n",
       "      <td>837</td>\n",
       "      <td>46.660000</td>\n",
       "    </tr>\n",
       "    <tr>\n",
       "      <th>2015-01-02 09:30:02</th>\n",
       "      <td>100</td>\n",
       "      <td>46.680000</td>\n",
       "    </tr>\n",
       "    <tr>\n",
       "      <th>2015-01-02 09:30:03</th>\n",
       "      <td>1288</td>\n",
       "      <td>46.660000</td>\n",
       "    </tr>\n",
       "    <tr>\n",
       "      <th>2015-01-02 09:30:04</th>\n",
       "      <td>3241</td>\n",
       "      <td>46.660000</td>\n",
       "    </tr>\n",
       "    <tr>\n",
       "      <th>...</th>\n",
       "      <td>...</td>\n",
       "      <td>...</td>\n",
       "    </tr>\n",
       "    <tr>\n",
       "      <th>2020-12-14 15:59:55</th>\n",
       "      <td>6367</td>\n",
       "      <td>214.080002</td>\n",
       "    </tr>\n",
       "    <tr>\n",
       "      <th>2020-12-14 15:59:56</th>\n",
       "      <td>7856</td>\n",
       "      <td>214.149994</td>\n",
       "    </tr>\n",
       "    <tr>\n",
       "      <th>2020-12-14 15:59:57</th>\n",
       "      <td>41730</td>\n",
       "      <td>213.800003</td>\n",
       "    </tr>\n",
       "    <tr>\n",
       "      <th>2020-12-14 15:59:58</th>\n",
       "      <td>19376</td>\n",
       "      <td>213.990005</td>\n",
       "    </tr>\n",
       "    <tr>\n",
       "      <th>2020-12-14 15:59:59</th>\n",
       "      <td>62224</td>\n",
       "      <td>214.089996</td>\n",
       "    </tr>\n",
       "  </tbody>\n",
       "</table>\n",
       "<p>11831383 rows × 2 columns</p>\n",
       "</div>"
      ],
      "text/plain": [
       "                       SIZE       PRICE\n",
       "DATETIME                               \n",
       "2015-01-02 09:30:00  759542   46.685001\n",
       "2015-01-02 09:30:01     837   46.660000\n",
       "2015-01-02 09:30:02     100   46.680000\n",
       "2015-01-02 09:30:03    1288   46.660000\n",
       "2015-01-02 09:30:04    3241   46.660000\n",
       "...                     ...         ...\n",
       "2020-12-14 15:59:55    6367  214.080002\n",
       "2020-12-14 15:59:56    7856  214.149994\n",
       "2020-12-14 15:59:57   41730  213.800003\n",
       "2020-12-14 15:59:58   19376  213.990005\n",
       "2020-12-14 15:59:59   62224  214.089996\n",
       "\n",
       "[11831383 rows x 2 columns]"
      ]
     },
     "execution_count": 70,
     "metadata": {},
     "output_type": "execute_result"
    }
   ],
   "source": [
    "df"
   ]
  },
  {
   "cell_type": "code",
   "execution_count": 69,
   "metadata": {},
   "outputs": [
    {
     "data": {
      "text/plain": [
       "0.04370105266571045"
      ]
     },
     "execution_count": 69,
     "metadata": {},
     "output_type": "execute_result"
    }
   ],
   "source": [
    "df.iloc[5:1205].PRICE.var()"
   ]
  },
  {
   "cell_type": "code",
   "execution_count": null,
   "metadata": {},
   "outputs": [],
   "source": []
  },
  {
   "cell_type": "code",
   "execution_count": null,
   "metadata": {},
   "outputs": [],
   "source": []
  },
  {
   "cell_type": "code",
   "execution_count": null,
   "metadata": {},
   "outputs": [],
   "source": []
  },
  {
   "cell_type": "code",
   "execution_count": 60,
   "metadata": {},
   "outputs": [],
   "source": [
    "spx = df[['PRICE']].iloc[:1000000]"
   ]
  },
  {
   "cell_type": "code",
   "execution_count": null,
   "metadata": {},
   "outputs": [],
   "source": [
    "spx['sqrt']= np.sqrt(spx['PRICE'])\n",
    "spx['log_sqrt'] = np.log(spx['sqrt'])"
   ]
  },
  {
   "cell_type": "code",
   "execution_count": 61,
   "metadata": {},
   "outputs": [],
   "source": [
    "def del_Raw(q, x): \n",
    "    return [np.mean(np.abs(spx['log_sqrt'] - spx['log_sqrt'].shift(lag)) ** q)\n",
    "            for lag in x]"
   ]
  },
  {
   "cell_type": "code",
   "execution_count": 62,
   "metadata": {},
   "outputs": [
    {
     "data": {
      "image/png": "[encoded data removed]",
      "text/plain": [
       "<Figure size 576x576 with 1 Axes>"
      ]
     },
     "metadata": {
      "needs_background": "light"
     },
     "output_type": "display_data"
    }
   ],
   "source": [
    "plt.figure(figsize=(8, 8))\n",
    "plt.xlabel('$log(\\Delta)$')\n",
    "plt.ylabel('$log\\  m(q.\\Delta)$')\n",
    "plt.ylim=(-3, -.5)\n",
    "\n",
    "zeta_q = list()\n",
    "qVec = np.array([.5, 1, 1.5, 2, 3])\n",
    "x = np.arange(1, 100)\n",
    "for q in qVec:\n",
    "    plt.plot(np.log(x), np.log(del_Raw(q, x)), 'o') \n",
    "    model = np.polyfit(np.log(x), np.log(del_Raw(q, x)), 1)\n",
    "    plt.plot(np.log(x), np.log(x) * model[0] + model[1])\n",
    "    zeta_q.append(model[0])\n",
    "    \n",
    "\n"
   ]
  },
  {
   "cell_type": "code",
   "execution_count": 63,
   "metadata": {},
   "outputs": [
    {
     "name": "stdout",
     "output_type": "stream",
     "text": [
      "0.4910107527306072\n"
     ]
    },
    {
     "data": {
      "image/png": "[encoded data removed]",
      "text/plain": [
       "<Figure size 576x576 with 1 Axes>"
      ]
     },
     "metadata": {
      "needs_background": "light"
     },
     "output_type": "display_data"
    }
   ],
   "source": [
    "plt.figure(figsize=(8,8))\n",
    "plt.xlabel('q')\n",
    "plt.ylabel('$\\zeta_{q}$')\n",
    "plt.plot(qVec, zeta_q, 'or')\n",
    "\n",
    "line = np.polyfit(qVec[:4], zeta_q[:4],1)\n",
    "plt.plot(qVec, line[0] * qVec + line[1])\n",
    "h_est= line[0]\n",
    "print(h_est)"
   ]
  },
  {
   "cell_type": "code",
   "execution_count": 72,
   "metadata": {},
   "outputs": [
    {
     "data": {
      "text/html": [
       "<div>\n",
       "<style scoped>\n",
       "    .dataframe tbody tr th:only-of-type {\n",
       "        vertical-align: middle;\n",
       "    }\n",
       "\n",
       "    .dataframe tbody tr th {\n",
       "        vertical-align: top;\n",
       "    }\n",
       "\n",
       "    .dataframe thead th {\n",
       "        text-align: right;\n",
       "    }\n",
       "</style>\n",
       "<table border=\"1\" class=\"dataframe\">\n",
       "  <thead>\n",
       "    <tr style=\"text-align: right;\">\n",
       "      <th></th>\n",
       "      <th>PRICE</th>\n",
       "      <th>SIZE</th>\n",
       "    </tr>\n",
       "    <tr>\n",
       "      <th>datetime</th>\n",
       "      <th></th>\n",
       "      <th></th>\n",
       "    </tr>\n",
       "  </thead>\n",
       "  <tbody>\n",
       "    <tr>\n",
       "      <th>2020-03-03 09:46:06.836523082</th>\n",
       "      <td>169.89</td>\n",
       "      <td>10</td>\n",
       "    </tr>\n",
       "    <tr>\n",
       "      <th>2020-03-03 09:46:06.836526761</th>\n",
       "      <td>169.89</td>\n",
       "      <td>90</td>\n",
       "    </tr>\n",
       "    <tr>\n",
       "      <th>2020-03-03 09:46:06.836713529</th>\n",
       "      <td>169.89</td>\n",
       "      <td>100</td>\n",
       "    </tr>\n",
       "    <tr>\n",
       "      <th>2020-03-03 09:46:06.836716854</th>\n",
       "      <td>169.89</td>\n",
       "      <td>10</td>\n",
       "    </tr>\n",
       "    <tr>\n",
       "      <th>2020-03-03 09:46:06.837583122</th>\n",
       "      <td>169.90</td>\n",
       "      <td>100</td>\n",
       "    </tr>\n",
       "    <tr>\n",
       "      <th>...</th>\n",
       "      <td>...</td>\n",
       "      <td>...</td>\n",
       "    </tr>\n",
       "    <tr>\n",
       "      <th>2020-03-30 14:53:55.107148807</th>\n",
       "      <td>160.41</td>\n",
       "      <td>16</td>\n",
       "    </tr>\n",
       "    <tr>\n",
       "      <th>2020-03-30 14:53:55.107154589</th>\n",
       "      <td>160.41</td>\n",
       "      <td>193</td>\n",
       "    </tr>\n",
       "    <tr>\n",
       "      <th>2020-03-30 14:53:55.108989653</th>\n",
       "      <td>160.40</td>\n",
       "      <td>100</td>\n",
       "    </tr>\n",
       "    <tr>\n",
       "      <th>2020-03-30 14:53:55.113220815</th>\n",
       "      <td>160.39</td>\n",
       "      <td>49</td>\n",
       "    </tr>\n",
       "    <tr>\n",
       "      <th>2020-03-30 14:53:55.115498727</th>\n",
       "      <td>160.39</td>\n",
       "      <td>100</td>\n",
       "    </tr>\n",
       "  </tbody>\n",
       "</table>\n",
       "<p>4000000 rows × 2 columns</p>\n",
       "</div>"
      ],
      "text/plain": [
       "                                PRICE  SIZE\n",
       "datetime                                   \n",
       "2020-03-03 09:46:06.836523082  169.89    10\n",
       "2020-03-03 09:46:06.836526761  169.89    90\n",
       "2020-03-03 09:46:06.836713529  169.89   100\n",
       "2020-03-03 09:46:06.836716854  169.89    10\n",
       "2020-03-03 09:46:06.837583122  169.90   100\n",
       "...                               ...   ...\n",
       "2020-03-30 14:53:55.107148807  160.41    16\n",
       "2020-03-30 14:53:55.107154589  160.41   193\n",
       "2020-03-30 14:53:55.108989653  160.40   100\n",
       "2020-03-30 14:53:55.113220815  160.39    49\n",
       "2020-03-30 14:53:55.115498727  160.39   100\n",
       "\n",
       "[4000000 rows x 2 columns]"
      ]
     },
     "execution_count": 72,
     "metadata": {},
     "output_type": "execute_result"
    }
   ],
   "source": [
    "a"
   ]
  },
  {
   "cell_type": "code",
   "execution_count": null,
   "metadata": {},
   "outputs": [],
   "source": []
  }
 ],
 "metadata": {
  "kernelspec": {
   "display_name": "Python 3",
   "language": "python",
   "name": "python3"
  },
  "language_info": {
   "codemirror_mode": {
    "name": "ipython",
    "version": 3
   },
   "file_extension": ".py",
   "mimetype": "text/x-python",
   "name": "python",
   "nbconvert_exporter": "python",
   "pygments_lexer": "ipython3",
   "version": "3.8.3"
  }
 },
 "nbformat": 4,
 "nbformat_minor": 4
}
